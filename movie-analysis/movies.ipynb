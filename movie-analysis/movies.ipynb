{
 "cells": [
  {
   "cell_type": "markdown",
   "metadata": {},
   "source": [
    "MOVIE DATASET ANALYSIS"
   ]
  },
  {
   "cell_type": "code",
   "execution_count": 1,
   "metadata": {},
   "outputs": [],
   "source": [
    "from ydata_profiling import ProfileReport\n",
    "import pandas as pd\n",
    "\n",
    "import matplotlib.pyplot as plt\n",
    "import seaborn as sns   \n",
    "%matplotlib inline"
   ]
  },
  {
   "cell_type": "code",
   "execution_count": 2,
   "metadata": {},
   "outputs": [],
   "source": [
    "df = pd.read_csv('final_dataset.csv')"
   ]
  },
  {
   "cell_type": "code",
   "execution_count": 3,
   "metadata": {},
   "outputs": [],
   "source": [
    "# pf = ProfileReport(df)\n",
    "# pf.to_file(output_file='report.html')\n"
   ]
  },
  {
   "cell_type": "code",
   "execution_count": 4,
   "metadata": {},
   "outputs": [
    {
     "data": {
      "text/html": [
       "<div>\n",
       "<style scoped>\n",
       "    .dataframe tbody tr th:only-of-type {\n",
       "        vertical-align: middle;\n",
       "    }\n",
       "\n",
       "    .dataframe tbody tr th {\n",
       "        vertical-align: top;\n",
       "    }\n",
       "\n",
       "    .dataframe thead th {\n",
       "        text-align: right;\n",
       "    }\n",
       "</style>\n",
       "<table border=\"1\" class=\"dataframe\">\n",
       "  <thead>\n",
       "    <tr style=\"text-align: right;\">\n",
       "      <th></th>\n",
       "      <th>id</th>\n",
       "      <th>Title</th>\n",
       "      <th>Movie Link</th>\n",
       "      <th>Year</th>\n",
       "      <th>Duration</th>\n",
       "      <th>MPA</th>\n",
       "      <th>Rating</th>\n",
       "      <th>Votes</th>\n",
       "      <th>budget</th>\n",
       "      <th>grossWorldWide</th>\n",
       "      <th>...</th>\n",
       "      <th>writers</th>\n",
       "      <th>stars</th>\n",
       "      <th>genres</th>\n",
       "      <th>countries_origin</th>\n",
       "      <th>filming_locations</th>\n",
       "      <th>production_companies</th>\n",
       "      <th>Languages</th>\n",
       "      <th>wins</th>\n",
       "      <th>nominations</th>\n",
       "      <th>oscars</th>\n",
       "    </tr>\n",
       "  </thead>\n",
       "  <tbody>\n",
       "    <tr>\n",
       "      <th>22892</th>\n",
       "      <td>tt11306376</td>\n",
       "      <td>Jathi Ratnalu</td>\n",
       "      <td>https://www.imdb.com/title/tt11306376</td>\n",
       "      <td>2021</td>\n",
       "      <td>2h 25m</td>\n",
       "      <td>NaN</td>\n",
       "      <td>7.3</td>\n",
       "      <td>8.4K</td>\n",
       "      <td>NaN</td>\n",
       "      <td>731273.0</td>\n",
       "      <td>...</td>\n",
       "      <td>['Anudeep K.V.']</td>\n",
       "      <td>['Naveen Polishetty', 'Rahul Ramakrishna', 'Pr...</td>\n",
       "      <td>['Comedy']</td>\n",
       "      <td>['India']</td>\n",
       "      <td>NaN</td>\n",
       "      <td>['Swapna Cinema']</td>\n",
       "      <td>['Telugu']</td>\n",
       "      <td>0</td>\n",
       "      <td>15</td>\n",
       "      <td>0</td>\n",
       "    </tr>\n",
       "  </tbody>\n",
       "</table>\n",
       "<p>1 rows × 23 columns</p>\n",
       "</div>"
      ],
      "text/plain": [
       "               id          Title                             Movie Link  Year  \\\n",
       "22892  tt11306376  Jathi Ratnalu  https://www.imdb.com/title/tt11306376  2021   \n",
       "\n",
       "      Duration  MPA  Rating Votes  budget  grossWorldWide  ...  \\\n",
       "22892   2h 25m  NaN     7.3  8.4K     NaN        731273.0  ...   \n",
       "\n",
       "                writers                                              stars  \\\n",
       "22892  ['Anudeep K.V.']  ['Naveen Polishetty', 'Rahul Ramakrishna', 'Pr...   \n",
       "\n",
       "           genres countries_origin filming_locations production_companies  \\\n",
       "22892  ['Comedy']        ['India']               NaN    ['Swapna Cinema']   \n",
       "\n",
       "        Languages wins nominations oscars  \n",
       "22892  ['Telugu']    0          15      0  \n",
       "\n",
       "[1 rows x 23 columns]"
      ]
     },
     "execution_count": 4,
     "metadata": {},
     "output_type": "execute_result"
    }
   ],
   "source": [
    "df.sample()"
   ]
  },
  {
   "cell_type": "code",
   "execution_count": 58,
   "metadata": {},
   "outputs": [
    {
     "name": "stderr",
     "output_type": "stream",
     "text": [
      "C:\\Users\\Default\\AppData\\Local\\Temp\\ipykernel_20008\\1615582358.py:2: SettingWithCopyWarning: \n",
      "A value is trying to be set on a copy of a slice from a DataFrame\n",
      "\n",
      "See the caveats in the documentation: https://pandas.pydata.org/pandas-docs/stable/user_guide/indexing.html#returning-a-view-versus-a-copy\n",
      "  wow.dropna(inplace=True)\n"
     ]
    }
   ],
   "source": [
    "wow = df[['Rating','nominations']]\n",
    "wow.dropna(inplace=True)"
   ]
  },
  {
   "cell_type": "code",
   "execution_count": 59,
   "metadata": {},
   "outputs": [
    {
     "data": {
      "text/html": [
       "<div>\n",
       "<style scoped>\n",
       "    .dataframe tbody tr th:only-of-type {\n",
       "        vertical-align: middle;\n",
       "    }\n",
       "\n",
       "    .dataframe tbody tr th {\n",
       "        vertical-align: top;\n",
       "    }\n",
       "\n",
       "    .dataframe thead th {\n",
       "        text-align: right;\n",
       "    }\n",
       "</style>\n",
       "<table border=\"1\" class=\"dataframe\">\n",
       "  <thead>\n",
       "    <tr style=\"text-align: right;\">\n",
       "      <th></th>\n",
       "      <th>Rating</th>\n",
       "      <th>nominations</th>\n",
       "    </tr>\n",
       "  </thead>\n",
       "  <tbody>\n",
       "    <tr>\n",
       "      <th>0</th>\n",
       "      <td>8.1</td>\n",
       "      <td>20</td>\n",
       "    </tr>\n",
       "    <tr>\n",
       "      <th>1</th>\n",
       "      <td>7.4</td>\n",
       "      <td>4</td>\n",
       "    </tr>\n",
       "    <tr>\n",
       "      <th>2</th>\n",
       "      <td>8.7</td>\n",
       "      <td>15</td>\n",
       "    </tr>\n",
       "    <tr>\n",
       "      <th>3</th>\n",
       "      <td>8.0</td>\n",
       "      <td>20</td>\n",
       "    </tr>\n",
       "    <tr>\n",
       "      <th>4</th>\n",
       "      <td>6.4</td>\n",
       "      <td>11</td>\n",
       "    </tr>\n",
       "    <tr>\n",
       "      <th>...</th>\n",
       "      <td>...</td>\n",
       "      <td>...</td>\n",
       "    </tr>\n",
       "    <tr>\n",
       "      <th>33595</th>\n",
       "      <td>7.3</td>\n",
       "      <td>2</td>\n",
       "    </tr>\n",
       "    <tr>\n",
       "      <th>33596</th>\n",
       "      <td>4.9</td>\n",
       "      <td>0</td>\n",
       "    </tr>\n",
       "    <tr>\n",
       "      <th>33597</th>\n",
       "      <td>6.8</td>\n",
       "      <td>0</td>\n",
       "    </tr>\n",
       "    <tr>\n",
       "      <th>33598</th>\n",
       "      <td>6.3</td>\n",
       "      <td>0</td>\n",
       "    </tr>\n",
       "    <tr>\n",
       "      <th>33599</th>\n",
       "      <td>3.1</td>\n",
       "      <td>0</td>\n",
       "    </tr>\n",
       "  </tbody>\n",
       "</table>\n",
       "<p>33462 rows × 2 columns</p>\n",
       "</div>"
      ],
      "text/plain": [
       "       Rating  nominations\n",
       "0         8.1           20\n",
       "1         7.4            4\n",
       "2         8.7           15\n",
       "3         8.0           20\n",
       "4         6.4           11\n",
       "...       ...          ...\n",
       "33595     7.3            2\n",
       "33596     4.9            0\n",
       "33597     6.8            0\n",
       "33598     6.3            0\n",
       "33599     3.1            0\n",
       "\n",
       "[33462 rows x 2 columns]"
      ]
     },
     "execution_count": 59,
     "metadata": {},
     "output_type": "execute_result"
    }
   ],
   "source": [
    "wow"
   ]
  },
  {
   "cell_type": "code",
   "execution_count": 87,
   "metadata": {},
   "outputs": [
    {
     "data": {
      "text/plain": [
       "382"
      ]
     },
     "execution_count": 87,
     "metadata": {},
     "output_type": "execute_result"
    }
   ],
   "source": [
    "wow['nominations'].max()"
   ]
  },
  {
   "cell_type": "code",
   "execution_count": 85,
   "metadata": {},
   "outputs": [
    {
     "data": {
      "text/html": [
       "<div>\n",
       "<style scoped>\n",
       "    .dataframe tbody tr th:only-of-type {\n",
       "        vertical-align: middle;\n",
       "    }\n",
       "\n",
       "    .dataframe tbody tr th {\n",
       "        vertical-align: top;\n",
       "    }\n",
       "\n",
       "    .dataframe thead th {\n",
       "        text-align: right;\n",
       "    }\n",
       "</style>\n",
       "<table border=\"1\" class=\"dataframe\">\n",
       "  <thead>\n",
       "    <tr style=\"text-align: right;\">\n",
       "      <th></th>\n",
       "      <th>Rating</th>\n",
       "      <th>nominations</th>\n",
       "    </tr>\n",
       "  </thead>\n",
       "  <tbody>\n",
       "    <tr>\n",
       "      <th>14024</th>\n",
       "      <td>7.8</td>\n",
       "      <td>394</td>\n",
       "    </tr>\n",
       "  </tbody>\n",
       "</table>\n",
       "</div>"
      ],
      "text/plain": [
       "       Rating  nominations\n",
       "14024     7.8          394"
      ]
     },
     "execution_count": 85,
     "metadata": {},
     "output_type": "execute_result"
    }
   ],
   "source": [
    "wow[wow['nominations'] == 394]"
   ]
  },
  {
   "cell_type": "code",
   "execution_count": 86,
   "metadata": {},
   "outputs": [
    {
     "name": "stderr",
     "output_type": "stream",
     "text": [
      "C:\\Users\\Default\\AppData\\Local\\Temp\\ipykernel_20008\\643823084.py:1: SettingWithCopyWarning: \n",
      "A value is trying to be set on a copy of a slice from a DataFrame\n",
      "\n",
      "See the caveats in the documentation: https://pandas.pydata.org/pandas-docs/stable/user_guide/indexing.html#returning-a-view-versus-a-copy\n",
      "  wow.drop(14024, inplace=True)\n"
     ]
    }
   ],
   "source": [
    "wow.drop(14024, inplace=True)"
   ]
  },
  {
   "cell_type": "code",
   "execution_count": 57,
   "metadata": {},
   "outputs": [
    {
     "name": "stderr",
     "output_type": "stream",
     "text": [
      "C:\\Users\\Default\\AppData\\Local\\Temp\\ipykernel_20008\\3676300656.py:3: SettingWithCopyWarning: \n",
      "A value is trying to be set on a copy of a slice from a DataFrame\n",
      "\n",
      "See the caveats in the documentation: https://pandas.pydata.org/pandas-docs/stable/user_guide/indexing.html#returning-a-view-versus-a-copy\n",
      "  a.dropna(inplace=True)\n"
     ]
    },
    {
     "data": {
      "text/plain": [
       "<Axes: ylabel='Count'>"
      ]
     },
     "execution_count": 57,
     "metadata": {},
     "output_type": "execute_result"
    },
    {
     "data": {
      "image/png": "[encoded data removed]",
      "text/plain": [
       "<Figure size 640x480 with 1 Axes>"
      ]
     },
     "metadata": {},
     "output_type": "display_data"
    }
   ],
   "source": [
    "a = df[['Year','MPA']]\n",
    "# sns.pairplot(a)\n",
    "a.dropna(inplace=True)\n",
    "sns.histplot(a)"
   ]
  },
  {
   "cell_type": "code",
   "execution_count": 10,
   "metadata": {},
   "outputs": [
    {
     "data": {
      "text/plain": [
       "<seaborn.axisgrid.PairGrid at 0x1ac58542090>"
      ]
     },
     "execution_count": 10,
     "metadata": {},
     "output_type": "execute_result"
    },
    {
     "data": {
      "image/png": "[encoded data removed]",
      "text/plain": [
       "<Figure size 500x500 with 6 Axes>"
      ]
     },
     "metadata": {},
     "output_type": "display_data"
    }
   ],
   "source": [
    "sns.pairplot(wow)"
   ]
  },
  {
   "cell_type": "code",
   "execution_count": 11,
   "metadata": {},
   "outputs": [
    {
     "name": "stdout",
     "output_type": "stream",
     "text": [
      "<class 'pandas.core.frame.DataFrame'>\n",
      "RangeIndex: 33600 entries, 0 to 33599\n",
      "Data columns (total 23 columns):\n",
      " #   Column                 Non-Null Count  Dtype  \n",
      "---  ------                 --------------  -----  \n",
      " 0   id                     33600 non-null  object \n",
      " 1   Title                  33600 non-null  object \n",
      " 2   Movie Link             33600 non-null  object \n",
      " 3   Year                   33600 non-null  int64  \n",
      " 4   Duration               33379 non-null  object \n",
      " 5   MPA                    25624 non-null  object \n",
      " 6   Rating                 33462 non-null  float64\n",
      " 7   Votes                  33462 non-null  object \n",
      " 8   budget                 11815 non-null  float64\n",
      " 9   grossWorldWide         18222 non-null  float64\n",
      " 10  gross_US_Canada        17571 non-null  float64\n",
      " 11  opening_weekend_Gross  15523 non-null  float64\n",
      " 12  directors              33241 non-null  object \n",
      " 13  writers                32024 non-null  object \n",
      " 14  stars                  33127 non-null  object \n",
      " 15  genres                 33218 non-null  object \n",
      " 16  countries_origin       33234 non-null  object \n",
      " 17  filming_locations      26871 non-null  object \n",
      " 18  production_companies   32222 non-null  object \n",
      " 19  Languages              33126 non-null  object \n",
      " 20  wins                   33600 non-null  int64  \n",
      " 21  nominations            33600 non-null  int64  \n",
      " 22  oscars                 33600 non-null  int64  \n",
      "dtypes: float64(5), int64(4), object(14)\n",
      "memory usage: 5.9+ MB\n"
     ]
    }
   ],
   "source": [
    "df.info()"
   ]
  },
  {
   "cell_type": "code",
   "execution_count": 12,
   "metadata": {},
   "outputs": [
    {
     "data": {
      "text/plain": [
       "21785"
      ]
     },
     "execution_count": 12,
     "metadata": {},
     "output_type": "execute_result"
    }
   ],
   "source": [
    "df['budget'].isnull().sum() "
   ]
  },
  {
   "cell_type": "code",
   "execution_count": 13,
   "metadata": {},
   "outputs": [],
   "source": [
    "df.drop(columns=['id','Title','Movie Link','wins','budget','grossWorldWide','gross_US_Canada','opening_weekend_Gross','filming_locations'],inplace=True)"
   ]
  },
  {
   "cell_type": "code",
   "execution_count": 14,
   "metadata": {},
   "outputs": [],
   "source": [
    "# df['production_companies'].str.split(',').value_counts()"
   ]
  },
  {
   "cell_type": "code",
   "execution_count": 15,
   "metadata": {},
   "outputs": [],
   "source": [
    "a = df[['Rating','production_companies']]"
   ]
  },
  {
   "cell_type": "code",
   "execution_count": 16,
   "metadata": {},
   "outputs": [
    {
     "name": "stderr",
     "output_type": "stream",
     "text": [
      "C:\\Users\\Default\\AppData\\Local\\Temp\\ipykernel_20008\\3059322958.py:1: SettingWithCopyWarning: \n",
      "A value is trying to be set on a copy of a slice from a DataFrame.\n",
      "Try using .loc[row_indexer,col_indexer] = value instead\n",
      "\n",
      "See the caveats in the documentation: https://pandas.pydata.org/pandas-docs/stable/user_guide/indexing.html#returning-a-view-versus-a-copy\n",
      "  a['production_companies'] = a['production_companies'].str.split(', ')\n"
     ]
    }
   ],
   "source": [
    "a['production_companies'] = a['production_companies'].str.split(', ')"
   ]
  },
  {
   "cell_type": "code",
   "execution_count": 17,
   "metadata": {},
   "outputs": [
    {
     "data": {
      "text/html": [
       "<div>\n",
       "<style scoped>\n",
       "    .dataframe tbody tr th:only-of-type {\n",
       "        vertical-align: middle;\n",
       "    }\n",
       "\n",
       "    .dataframe tbody tr th {\n",
       "        vertical-align: top;\n",
       "    }\n",
       "\n",
       "    .dataframe thead th {\n",
       "        text-align: right;\n",
       "    }\n",
       "</style>\n",
       "<table border=\"1\" class=\"dataframe\">\n",
       "  <thead>\n",
       "    <tr style=\"text-align: right;\">\n",
       "      <th></th>\n",
       "      <th>Rating</th>\n",
       "      <th>production_companies</th>\n",
       "    </tr>\n",
       "  </thead>\n",
       "  <tbody>\n",
       "    <tr>\n",
       "      <th>0</th>\n",
       "      <td>8.1</td>\n",
       "      <td>['Zanuck/Brown Productions'</td>\n",
       "    </tr>\n",
       "    <tr>\n",
       "      <th>0</th>\n",
       "      <td>8.1</td>\n",
       "      <td>'Universal Pictures']</td>\n",
       "    </tr>\n",
       "    <tr>\n",
       "      <th>1</th>\n",
       "      <td>7.4</td>\n",
       "      <td>['Twentieth Century Fox'</td>\n",
       "    </tr>\n",
       "    <tr>\n",
       "      <th>1</th>\n",
       "      <td>7.4</td>\n",
       "      <td>'Michael White Productions']</td>\n",
       "    </tr>\n",
       "    <tr>\n",
       "      <th>2</th>\n",
       "      <td>8.7</td>\n",
       "      <td>['Fantasy Films'</td>\n",
       "    </tr>\n",
       "    <tr>\n",
       "      <th>...</th>\n",
       "      <td>...</td>\n",
       "      <td>...</td>\n",
       "    </tr>\n",
       "    <tr>\n",
       "      <th>33595</th>\n",
       "      <td>7.3</td>\n",
       "      <td>'Productions Pacific']</td>\n",
       "    </tr>\n",
       "    <tr>\n",
       "      <th>33596</th>\n",
       "      <td>4.9</td>\n",
       "      <td>NaN</td>\n",
       "    </tr>\n",
       "    <tr>\n",
       "      <th>33597</th>\n",
       "      <td>6.8</td>\n",
       "      <td>['Filmation Associates']</td>\n",
       "    </tr>\n",
       "    <tr>\n",
       "      <th>33598</th>\n",
       "      <td>6.3</td>\n",
       "      <td>['Molesworth Limited']</td>\n",
       "    </tr>\n",
       "    <tr>\n",
       "      <th>33599</th>\n",
       "      <td>3.1</td>\n",
       "      <td>['Pacific Trust']</td>\n",
       "    </tr>\n",
       "  </tbody>\n",
       "</table>\n",
       "<p>68714 rows × 2 columns</p>\n",
       "</div>"
      ],
      "text/plain": [
       "       Rating          production_companies\n",
       "0         8.1   ['Zanuck/Brown Productions'\n",
       "0         8.1         'Universal Pictures']\n",
       "1         7.4      ['Twentieth Century Fox'\n",
       "1         7.4  'Michael White Productions']\n",
       "2         8.7              ['Fantasy Films'\n",
       "...       ...                           ...\n",
       "33595     7.3        'Productions Pacific']\n",
       "33596     4.9                           NaN\n",
       "33597     6.8      ['Filmation Associates']\n",
       "33598     6.3        ['Molesworth Limited']\n",
       "33599     3.1             ['Pacific Trust']\n",
       "\n",
       "[68714 rows x 2 columns]"
      ]
     },
     "execution_count": 17,
     "metadata": {},
     "output_type": "execute_result"
    }
   ],
   "source": [
    "a.explode('production_companies')"
   ]
  },
  {
   "cell_type": "code",
   "execution_count": 147,
   "metadata": {},
   "outputs": [
    {
     "data": {
      "text/plain": [
       "array(['683K', '173K', '1.1M', ..., '1.3K', '337', '737'], dtype=object)"
      ]
     },
     "execution_count": 147,
     "metadata": {},
     "output_type": "execute_result"
    }
   ],
   "source": [
    "df['Votes'].values"
   ]
  },
  {
   "cell_type": "code",
   "execution_count": 18,
   "metadata": {},
   "outputs": [
    {
     "data": {
      "text/html": [
       "<div>\n",
       "<style scoped>\n",
       "    .dataframe tbody tr th:only-of-type {\n",
       "        vertical-align: middle;\n",
       "    }\n",
       "\n",
       "    .dataframe tbody tr th {\n",
       "        vertical-align: top;\n",
       "    }\n",
       "\n",
       "    .dataframe thead th {\n",
       "        text-align: right;\n",
       "    }\n",
       "</style>\n",
       "<table border=\"1\" class=\"dataframe\">\n",
       "  <thead>\n",
       "    <tr style=\"text-align: right;\">\n",
       "      <th></th>\n",
       "      <th>Year</th>\n",
       "      <th>Duration</th>\n",
       "      <th>MPA</th>\n",
       "      <th>Rating</th>\n",
       "      <th>Votes</th>\n",
       "      <th>directors</th>\n",
       "      <th>writers</th>\n",
       "      <th>stars</th>\n",
       "      <th>genres</th>\n",
       "      <th>countries_origin</th>\n",
       "      <th>production_companies</th>\n",
       "      <th>Languages</th>\n",
       "      <th>nominations</th>\n",
       "      <th>oscars</th>\n",
       "    </tr>\n",
       "  </thead>\n",
       "  <tbody>\n",
       "    <tr>\n",
       "      <th>0</th>\n",
       "      <td>1975</td>\n",
       "      <td>2h 4m</td>\n",
       "      <td>PG</td>\n",
       "      <td>8.1</td>\n",
       "      <td>683K</td>\n",
       "      <td>['Steven Spielberg']</td>\n",
       "      <td>['Peter Benchley', 'Carl Gottlieb']</td>\n",
       "      <td>['Roy Scheider', 'Robert Shaw', 'Richard Dreyf...</td>\n",
       "      <td>['Monster Horror', 'Sea Adventure', 'Survival'...</td>\n",
       "      <td>['United States']</td>\n",
       "      <td>['Zanuck/Brown Productions', 'Universal Pictur...</td>\n",
       "      <td>['English']</td>\n",
       "      <td>20</td>\n",
       "      <td>0</td>\n",
       "    </tr>\n",
       "    <tr>\n",
       "      <th>1</th>\n",
       "      <td>1975</td>\n",
       "      <td>1h 40m</td>\n",
       "      <td>R</td>\n",
       "      <td>7.4</td>\n",
       "      <td>173K</td>\n",
       "      <td>['Jim Sharman']</td>\n",
       "      <td>[\"Richard O'Brien\", 'Jim Sharman']</td>\n",
       "      <td>['Tim Curry', 'Susan Sarandon', 'Barry Bostwick']</td>\n",
       "      <td>['Dark Comedy', 'Raunchy Comedy', 'Rock Musica...</td>\n",
       "      <td>['United Kingdom', 'United States']</td>\n",
       "      <td>['Twentieth Century Fox', 'Michael White Produ...</td>\n",
       "      <td>['English']</td>\n",
       "      <td>4</td>\n",
       "      <td>0</td>\n",
       "    </tr>\n",
       "    <tr>\n",
       "      <th>2</th>\n",
       "      <td>1975</td>\n",
       "      <td>2h 13m</td>\n",
       "      <td>R</td>\n",
       "      <td>8.7</td>\n",
       "      <td>1.1M</td>\n",
       "      <td>['Milos Forman']</td>\n",
       "      <td>['Lawrence Hauben', 'Bo Goldman', 'Ken Kesey']</td>\n",
       "      <td>['Jack Nicholson', 'Louise Fletcher', 'Michael...</td>\n",
       "      <td>['Medical Drama', 'Psychological Drama', 'Drama']</td>\n",
       "      <td>['United States']</td>\n",
       "      <td>['Fantasy Films', 'N.V. Zvaluw']</td>\n",
       "      <td>['English']</td>\n",
       "      <td>15</td>\n",
       "      <td>0</td>\n",
       "    </tr>\n",
       "    <tr>\n",
       "      <th>3</th>\n",
       "      <td>1975</td>\n",
       "      <td>2h 5m</td>\n",
       "      <td>R</td>\n",
       "      <td>8.0</td>\n",
       "      <td>279K</td>\n",
       "      <td>['Sidney Lumet']</td>\n",
       "      <td>['Frank Pierson', 'P.F. Kluge', 'Thomas Moore']</td>\n",
       "      <td>['Al Pacino', 'John Cazale', 'Penelope Allen']</td>\n",
       "      <td>['Heist', 'True Crime', 'Biography', 'Crime', ...</td>\n",
       "      <td>['United States']</td>\n",
       "      <td>['Warner Bros.', 'Artists Entertainment Complex']</td>\n",
       "      <td>['English']</td>\n",
       "      <td>20</td>\n",
       "      <td>0</td>\n",
       "    </tr>\n",
       "    <tr>\n",
       "      <th>4</th>\n",
       "      <td>1975</td>\n",
       "      <td>1h 50m</td>\n",
       "      <td>R</td>\n",
       "      <td>6.4</td>\n",
       "      <td>15K</td>\n",
       "      <td>['Hal Ashby']</td>\n",
       "      <td>['Robert Towne', 'Warren Beatty']</td>\n",
       "      <td>['Warren Beatty', 'Julie Christie', 'Goldie Ha...</td>\n",
       "      <td>['Satire', 'Comedy', 'Drama']</td>\n",
       "      <td>['United States']</td>\n",
       "      <td>['Persky-Bright / Vista', 'Columbia Pictures',...</td>\n",
       "      <td>['English']</td>\n",
       "      <td>11</td>\n",
       "      <td>0</td>\n",
       "    </tr>\n",
       "  </tbody>\n",
       "</table>\n",
       "</div>"
      ],
      "text/plain": [
       "   Year Duration MPA  Rating Votes             directors  \\\n",
       "0  1975    2h 4m  PG     8.1  683K  ['Steven Spielberg']   \n",
       "1  1975   1h 40m   R     7.4  173K       ['Jim Sharman']   \n",
       "2  1975   2h 13m   R     8.7  1.1M      ['Milos Forman']   \n",
       "3  1975    2h 5m   R     8.0  279K      ['Sidney Lumet']   \n",
       "4  1975   1h 50m   R     6.4   15K         ['Hal Ashby']   \n",
       "\n",
       "                                           writers  \\\n",
       "0              ['Peter Benchley', 'Carl Gottlieb']   \n",
       "1               [\"Richard O'Brien\", 'Jim Sharman']   \n",
       "2   ['Lawrence Hauben', 'Bo Goldman', 'Ken Kesey']   \n",
       "3  ['Frank Pierson', 'P.F. Kluge', 'Thomas Moore']   \n",
       "4                ['Robert Towne', 'Warren Beatty']   \n",
       "\n",
       "                                               stars  \\\n",
       "0  ['Roy Scheider', 'Robert Shaw', 'Richard Dreyf...   \n",
       "1  ['Tim Curry', 'Susan Sarandon', 'Barry Bostwick']   \n",
       "2  ['Jack Nicholson', 'Louise Fletcher', 'Michael...   \n",
       "3     ['Al Pacino', 'John Cazale', 'Penelope Allen']   \n",
       "4  ['Warren Beatty', 'Julie Christie', 'Goldie Ha...   \n",
       "\n",
       "                                              genres  \\\n",
       "0  ['Monster Horror', 'Sea Adventure', 'Survival'...   \n",
       "1  ['Dark Comedy', 'Raunchy Comedy', 'Rock Musica...   \n",
       "2  ['Medical Drama', 'Psychological Drama', 'Drama']   \n",
       "3  ['Heist', 'True Crime', 'Biography', 'Crime', ...   \n",
       "4                      ['Satire', 'Comedy', 'Drama']   \n",
       "\n",
       "                      countries_origin  \\\n",
       "0                    ['United States']   \n",
       "1  ['United Kingdom', 'United States']   \n",
       "2                    ['United States']   \n",
       "3                    ['United States']   \n",
       "4                    ['United States']   \n",
       "\n",
       "                                production_companies    Languages  \\\n",
       "0  ['Zanuck/Brown Productions', 'Universal Pictur...  ['English']   \n",
       "1  ['Twentieth Century Fox', 'Michael White Produ...  ['English']   \n",
       "2                   ['Fantasy Films', 'N.V. Zvaluw']  ['English']   \n",
       "3  ['Warner Bros.', 'Artists Entertainment Complex']  ['English']   \n",
       "4  ['Persky-Bright / Vista', 'Columbia Pictures',...  ['English']   \n",
       "\n",
       "   nominations  oscars  \n",
       "0           20       0  \n",
       "1            4       0  \n",
       "2           15       0  \n",
       "3           20       0  \n",
       "4           11       0  "
      ]
     },
     "execution_count": 18,
     "metadata": {},
     "output_type": "execute_result"
    }
   ],
   "source": [
    "df.head()"
   ]
  },
  {
   "cell_type": "code",
   "execution_count": 106,
   "metadata": {},
   "outputs": [
    {
     "data": {
      "text/plain": [
       "221"
      ]
     },
     "execution_count": 106,
     "metadata": {},
     "output_type": "execute_result"
    }
   ],
   "source": [
    "df['Duration'].isnull().sum()"
   ]
  },
  {
   "cell_type": "code",
   "execution_count": 109,
   "metadata": {},
   "outputs": [
    {
     "data": {
      "text/plain": [
       "array(['2h 4m', '1h 40m', '2h 13m', '2h 5m', '1h 50m', '1h 53m', '2h 16m',\n",
       "       '1h 51m', '1h 57m', '1h 58m', '1h 47m', '1h 25m', '1h 37m',\n",
       "       '2h 1m', '2h 9m', '1h 59m', '1h 44m', '2h 40m', '1h 39m', '1h 31m',\n",
       "       '1h 46m', '2h 6m', '1h 24m', '1h 55m', '1h 35m', '1h 49m',\n",
       "       '1h 56m', '1h 48m', '1h 36m', '3h 5m', '1h 20m', '1h 29m',\n",
       "       '1h 38m', '1h 28m', '2h 7m', '3h 22m', '1h 30m', '1h 27m',\n",
       "       '1h 33m', '2h 22m', '1h 45m', '2h 42m', '2h 24m', '2h 20m',\n",
       "       '1h 23m', '2h 54m', '1h 52m', '1h 42m', '2h', '2h 2m', '1h 34m',\n",
       "       '1h 32m', '1h 15m', '2h 12m', '1h 43m', '2h 32m', '1h 41m',\n",
       "       '1h 14m', '1h 26m', '2h 26m', '2h 15m', '2h 30m', '2h 10m',\n",
       "       '1h 22m', '1h 16m', '1h 21m', '1h 13m', '53m', '1h 19m', '3h 50m',\n",
       "       '2h 38m', '2h 25m', '2h 43m', '2h 50m', '2h 36m', '1h 1m', nan,\n",
       "       '1h 18m', '2h 39m', '2h 19m', '1h 7m', '2h 11m', '1h 54m',\n",
       "       '1h 17m', '1h 9m', '2h 3m', '2h 33m', '2h 57m', '1h 3m', '2h 35m',\n",
       "       '2h 23m', '1h 12m', '2h 18m', '2h 55m', '2h 8m', '2h 45m', '4h',\n",
       "       '2h 17m', '1h 10m', '3h 4m', '1h 11m', '1h 6m', '1h 8m', '2h 49m',\n",
       "       '2h 41m', '7h 22m', '1h 5m', '1h 2m', '2h 29m', '56m', '3h',\n",
       "       '2h 46m', '3h 53m', '2h 48m', '3h 2m', '2h 21m', '3h 30m',\n",
       "       '2h 58m', '3h 9m', '2h 14m', '2h 56m', '59m', '2h 53m', '1h',\n",
       "       '48m', '2h 52m', '2h 28m', '55m', '50m', '2h 44m', '2h 34m', '47m',\n",
       "       '2h 27m', '2h 51m', '3h 11m', '3h 8m', '3h 3m', '3h 40m', '3h 14m',\n",
       "       '4h 15m', '2h 31m', '57m', '45m', '52m', '2h 37m', '2h 47m',\n",
       "       '3h 58m', '3h 17m', '4h 11m', '3h 52m', '4h 12m', '3h 36m',\n",
       "       '1h 4m', '3h 13m', '3h 1m', '3h 18m', '2h 59m', '3h 49m', '3h 7m',\n",
       "       '49m', '51m', '4h 30m', '3h 12m', '3h 6m', '3h 10m', '54m', '46m',\n",
       "       'PG-13', '3h 39m', '3h 33m', '3h 15m', '58m', '3h 21m', '3h 35m',\n",
       "       '4h 47m', '3h 57m', '43m', '3h 34m', '5h 35m', '3h 19m', '5h 10m',\n",
       "       '3h 55m', '4h 20m', '5h 20m', '25h', '5h 57m', '87h', '40m',\n",
       "       '3h 47m', '3h 25m', '3h 27m', '3h 16m', '3h 20m', '3h 41m',\n",
       "       '3h 44m', '48h', '5h 19m', '4h 6m', '5h 17m', '4h 4m', '4h 10m',\n",
       "       '3h 26m', '3h 24m', 'PG', '5h 16m', '5h 23m', '4h 48m', '3h 37m',\n",
       "       '4h 2m', '44m', '4h 44m', '9h 26m', '3h 59m', '8h 5m', '5h 21m',\n",
       "       '6h 33m', '3h 54m', '4h 7m', '6h 38m', '6h 14m', 'TV-G', '3h 28m',\n",
       "       '4h 14m', '4h 18m', 'X', '5h 25m', 'TV-14', '5h 45m', '7h 19m',\n",
       "       '12h 56m', '3h 23m'], dtype=object)"
      ]
     },
     "execution_count": 109,
     "metadata": {},
     "output_type": "execute_result"
    }
   ],
   "source": [
    "df['Duration'].unique()"
   ]
  },
  {
   "cell_type": "code",
   "execution_count": 140,
   "metadata": {},
   "outputs": [],
   "source": [
    "df[df['Duration'] == 'PG-13']\n",
    "df.drop([7820,8604,28265], inplace=True)"
   ]
  },
  {
   "cell_type": "code",
   "execution_count": 141,
   "metadata": {},
   "outputs": [
    {
     "data": {
      "text/plain": [
       "Duration\n",
       "1      60\n",
       "2      60\n",
       "3      49\n",
       "4      16\n",
       "5      11\n",
       "6       3\n",
       "7       2\n",
       "49m     1\n",
       "87      1\n",
       "25      1\n",
       "43m     1\n",
       "8       1\n",
       "9       1\n",
       "44m     1\n",
       "12      1\n",
       "40m     1\n",
       "46m     1\n",
       "51m     1\n",
       "47m     1\n",
       "57m     1\n",
       "54m     1\n",
       "53m     1\n",
       "56m     1\n",
       "50m     1\n",
       "52m     1\n",
       "58m     1\n",
       "48m     1\n",
       "59m     1\n",
       "45m     1\n",
       "55m     1\n",
       "48      1\n",
       "Name: count, dtype: int64"
      ]
     },
     "execution_count": 141,
     "metadata": {},
     "output_type": "execute_result"
    }
   ],
   "source": [
    "df['Duration'].value_counts(dropna=False).index.str.split(' ').str[0].str.split('h').str[0].value_counts()"
   ]
  },
  {
   "cell_type": "code",
   "execution_count": null,
   "metadata": {},
   "outputs": [],
   "source": []
  },
  {
   "cell_type": "code",
   "execution_count": 100,
   "metadata": {},
   "outputs": [
    {
     "data": {
      "text/plain": [
       "Index([1960, 1961, 1962, 1963, 1964, 1965, 1966, 1967, 1968, 1969, 1970, 1971,\n",
       "       1972, 1973, 1974, 1975, 1976, 1977, 1978, 1979, 1980, 1981, 1982, 1983,\n",
       "       1984, 1985, 1986, 1987, 1988, 1989, 1990, 1991, 1992, 1993, 1994, 1995,\n",
       "       1996, 1997, 1998, 1999, 2000, 2001, 2002, 2003, 2004, 2005, 2006, 2007,\n",
       "       2008, 2009, 2010, 2011, 2012, 2013, 2014, 2015, 2016, 2017, 2018, 2019,\n",
       "       2020, 2021, 2022, 2023, 2024],\n",
       "      dtype='int64', name='Year')"
      ]
     },
     "execution_count": 100,
     "metadata": {},
     "output_type": "execute_result"
    }
   ],
   "source": [
    "df['Year'].value_counts().sort_index().index"
   ]
  },
  {
   "cell_type": "code",
   "execution_count": 101,
   "metadata": {},
   "outputs": [
    {
     "data": {
      "text/plain": [
       "<Axes: xlabel='Year', ylabel='Count'>"
      ]
     },
     "execution_count": 101,
     "metadata": {},
     "output_type": "execute_result"
    },
    {
     "data": {
      "image/png": "[encoded data removed]",
      "text/plain": [
       "<Figure size 640x480 with 1 Axes>"
      ]
     },
     "metadata": {},
     "output_type": "display_data"
    }
   ],
   "source": [
    "sns.histplot(df['Year'])"
   ]
  },
  {
   "cell_type": "code",
   "execution_count": 19,
   "metadata": {},
   "outputs": [
    {
     "data": {
      "text/plain": [
       "0         PG\n",
       "1          R\n",
       "2          R\n",
       "3          R\n",
       "4          R\n",
       "        ... \n",
       "33595      R\n",
       "33596    NaN\n",
       "33597     PG\n",
       "33598    NaN\n",
       "33599     PG\n",
       "Name: MPA, Length: 33600, dtype: object"
      ]
     },
     "execution_count": 19,
     "metadata": {},
     "output_type": "execute_result"
    }
   ],
   "source": [
    "#MPA 23% missing values\n",
    "df['MPA']"
   ]
  }
 ],
 "metadata": {
  "kernelspec": {
   "display_name": "Python 3",
   "language": "python",
   "name": "python3"
  },
  "language_info": {
   "codemirror_mode": {
    "name": "ipython",
    "version": 3
   },
   "file_extension": ".py",
   "mimetype": "text/x-python",
   "name": "python",
   "nbconvert_exporter": "python",
   "pygments_lexer": "ipython3",
   "version": "3.12.4"
  }
 },
 "nbformat": 4,
 "nbformat_minor": 2
}
