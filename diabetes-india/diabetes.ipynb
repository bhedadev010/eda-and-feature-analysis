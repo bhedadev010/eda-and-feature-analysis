{
 "cells": [
  {
   "cell_type": "markdown",
   "metadata": {},
   "source": [
    "DIABETES IN YOUNG ADULTS"
   ]
  },
  {
   "cell_type": "markdown",
   "metadata": {},
   "source": [
    "normal info about dataset\n"
   ]
  },
  {
   "cell_type": "code",
   "execution_count": 1,
   "metadata": {},
   "outputs": [],
   "source": [
    "import numpy as np\n",
    "import pandas as pd \n",
    "import matplotlib.pyplot as plt\n",
    "import seaborn as sns\n",
    "%matplotlib inline"
   ]
  },
  {
   "cell_type": "code",
   "execution_count": 2,
   "metadata": {},
   "outputs": [],
   "source": [
    "df = pd.read_csv('diabetes_young_adults_india.csv')"
   ]
  },
  {
   "cell_type": "code",
   "execution_count": 3,
   "metadata": {},
   "outputs": [
    {
     "data": {
      "text/plain": [
       "(100000, 22)"
      ]
     },
     "execution_count": 3,
     "metadata": {},
     "output_type": "execute_result"
    }
   ],
   "source": [
    "df.shape"
   ]
  },
  {
   "cell_type": "code",
   "execution_count": 4,
   "metadata": {},
   "outputs": [
    {
     "name": "stdout",
     "output_type": "stream",
     "text": [
      "<class 'pandas.core.frame.DataFrame'>\n",
      "RangeIndex: 100000 entries, 0 to 99999\n",
      "Data columns (total 22 columns):\n",
      " #   Column                   Non-Null Count   Dtype  \n",
      "---  ------                   --------------   -----  \n",
      " 0   ID                       100000 non-null  int64  \n",
      " 1   Age                      100000 non-null  int64  \n",
      " 2   Gender                   100000 non-null  object \n",
      " 3   Region                   100000 non-null  object \n",
      " 4   Family_Income            100000 non-null  int64  \n",
      " 5   Family_History_Diabetes  100000 non-null  object \n",
      " 6   Parent_Diabetes_Type     34903 non-null   object \n",
      " 7   Genetic_Risk_Score       100000 non-null  int64  \n",
      " 8   BMI                      100000 non-null  float64\n",
      " 9   Physical_Activity_Level  100000 non-null  object \n",
      " 10  Dietary_Habits           100000 non-null  object \n",
      " 11  Fast_Food_Intake         100000 non-null  int64  \n",
      " 12  Smoking                  100000 non-null  object \n",
      " 13  Alcohol_Consumption      100000 non-null  object \n",
      " 14  Fasting_Blood_Sugar      100000 non-null  float64\n",
      " 15  HbA1c                    100000 non-null  float64\n",
      " 16  Cholesterol_Level        100000 non-null  float64\n",
      " 17  Prediabetes              100000 non-null  object \n",
      " 18  Diabetes_Type            25224 non-null   object \n",
      " 19  Sleep_Hours              100000 non-null  float64\n",
      " 20  Stress_Level             100000 non-null  int64  \n",
      " 21  Screen_Time              100000 non-null  float64\n",
      "dtypes: float64(6), int64(6), object(10)\n",
      "memory usage: 16.8+ MB\n"
     ]
    }
   ],
   "source": [
    "df.info()"
   ]
  },
  {
   "cell_type": "code",
   "execution_count": 5,
   "metadata": {},
   "outputs": [
    {
     "data": {
      "text/html": [
       "<div>\n",
       "<style scoped>\n",
       "    .dataframe tbody tr th:only-of-type {\n",
       "        vertical-align: middle;\n",
       "    }\n",
       "\n",
       "    .dataframe tbody tr th {\n",
       "        vertical-align: top;\n",
       "    }\n",
       "\n",
       "    .dataframe thead th {\n",
       "        text-align: right;\n",
       "    }\n",
       "</style>\n",
       "<table border=\"1\" class=\"dataframe\">\n",
       "  <thead>\n",
       "    <tr style=\"text-align: right;\">\n",
       "      <th></th>\n",
       "      <th>ID</th>\n",
       "      <th>Age</th>\n",
       "      <th>Family_Income</th>\n",
       "      <th>Genetic_Risk_Score</th>\n",
       "      <th>BMI</th>\n",
       "      <th>Fast_Food_Intake</th>\n",
       "      <th>Fasting_Blood_Sugar</th>\n",
       "      <th>HbA1c</th>\n",
       "      <th>Cholesterol_Level</th>\n",
       "      <th>Sleep_Hours</th>\n",
       "      <th>Stress_Level</th>\n",
       "      <th>Screen_Time</th>\n",
       "    </tr>\n",
       "  </thead>\n",
       "  <tbody>\n",
       "    <tr>\n",
       "      <th>count</th>\n",
       "      <td>100000.000000</td>\n",
       "      <td>100000.000000</td>\n",
       "      <td>1.000000e+05</td>\n",
       "      <td>100000.000000</td>\n",
       "      <td>100000.000000</td>\n",
       "      <td>100000.000000</td>\n",
       "      <td>100000.000000</td>\n",
       "      <td>100000.000000</td>\n",
       "      <td>100000.000000</td>\n",
       "      <td>100000.000000</td>\n",
       "      <td>100000.00000</td>\n",
       "      <td>100000.000000</td>\n",
       "    </tr>\n",
       "    <tr>\n",
       "      <th>mean</th>\n",
       "      <td>50000.500000</td>\n",
       "      <td>20.007890</td>\n",
       "      <td>1.299440e+06</td>\n",
       "      <td>5.505340</td>\n",
       "      <td>28.028089</td>\n",
       "      <td>4.988580</td>\n",
       "      <td>125.072216</td>\n",
       "      <td>7.006461</td>\n",
       "      <td>209.903952</td>\n",
       "      <td>6.988082</td>\n",
       "      <td>5.50681</td>\n",
       "      <td>6.503842</td>\n",
       "    </tr>\n",
       "    <tr>\n",
       "      <th>std</th>\n",
       "      <td>28867.657797</td>\n",
       "      <td>3.154934</td>\n",
       "      <td>6.919403e+05</td>\n",
       "      <td>2.872218</td>\n",
       "      <td>6.924196</td>\n",
       "      <td>3.169762</td>\n",
       "      <td>31.788613</td>\n",
       "      <td>1.735327</td>\n",
       "      <td>52.049374</td>\n",
       "      <td>1.734122</td>\n",
       "      <td>2.87943</td>\n",
       "      <td>3.170210</td>\n",
       "    </tr>\n",
       "    <tr>\n",
       "      <th>min</th>\n",
       "      <td>1.000000</td>\n",
       "      <td>15.000000</td>\n",
       "      <td>1.000040e+05</td>\n",
       "      <td>1.000000</td>\n",
       "      <td>16.000000</td>\n",
       "      <td>0.000000</td>\n",
       "      <td>70.000000</td>\n",
       "      <td>4.000000</td>\n",
       "      <td>120.000000</td>\n",
       "      <td>4.000000</td>\n",
       "      <td>1.00000</td>\n",
       "      <td>1.000000</td>\n",
       "    </tr>\n",
       "    <tr>\n",
       "      <th>25%</th>\n",
       "      <td>25000.750000</td>\n",
       "      <td>17.000000</td>\n",
       "      <td>7.022028e+05</td>\n",
       "      <td>3.000000</td>\n",
       "      <td>22.100000</td>\n",
       "      <td>2.000000</td>\n",
       "      <td>97.600000</td>\n",
       "      <td>5.500000</td>\n",
       "      <td>164.800000</td>\n",
       "      <td>5.500000</td>\n",
       "      <td>3.00000</td>\n",
       "      <td>3.800000</td>\n",
       "    </tr>\n",
       "    <tr>\n",
       "      <th>50%</th>\n",
       "      <td>50000.500000</td>\n",
       "      <td>20.000000</td>\n",
       "      <td>1.299990e+06</td>\n",
       "      <td>6.000000</td>\n",
       "      <td>28.000000</td>\n",
       "      <td>5.000000</td>\n",
       "      <td>125.200000</td>\n",
       "      <td>7.000000</td>\n",
       "      <td>209.800000</td>\n",
       "      <td>7.000000</td>\n",
       "      <td>6.00000</td>\n",
       "      <td>6.500000</td>\n",
       "    </tr>\n",
       "    <tr>\n",
       "      <th>75%</th>\n",
       "      <td>75000.250000</td>\n",
       "      <td>23.000000</td>\n",
       "      <td>1.898916e+06</td>\n",
       "      <td>8.000000</td>\n",
       "      <td>34.000000</td>\n",
       "      <td>8.000000</td>\n",
       "      <td>152.600000</td>\n",
       "      <td>8.500000</td>\n",
       "      <td>255.000000</td>\n",
       "      <td>8.500000</td>\n",
       "      <td>8.00000</td>\n",
       "      <td>9.300000</td>\n",
       "    </tr>\n",
       "    <tr>\n",
       "      <th>max</th>\n",
       "      <td>100000.000000</td>\n",
       "      <td>25.000000</td>\n",
       "      <td>2.499974e+06</td>\n",
       "      <td>10.000000</td>\n",
       "      <td>40.000000</td>\n",
       "      <td>10.000000</td>\n",
       "      <td>180.000000</td>\n",
       "      <td>10.000000</td>\n",
       "      <td>300.000000</td>\n",
       "      <td>10.000000</td>\n",
       "      <td>10.00000</td>\n",
       "      <td>12.000000</td>\n",
       "    </tr>\n",
       "  </tbody>\n",
       "</table>\n",
       "</div>"
      ],
      "text/plain": [
       "                  ID            Age  ...  Stress_Level    Screen_Time\n",
       "count  100000.000000  100000.000000  ...  100000.00000  100000.000000\n",
       "mean    50000.500000      20.007890  ...       5.50681       6.503842\n",
       "std     28867.657797       3.154934  ...       2.87943       3.170210\n",
       "min         1.000000      15.000000  ...       1.00000       1.000000\n",
       "25%     25000.750000      17.000000  ...       3.00000       3.800000\n",
       "50%     50000.500000      20.000000  ...       6.00000       6.500000\n",
       "75%     75000.250000      23.000000  ...       8.00000       9.300000\n",
       "max    100000.000000      25.000000  ...      10.00000      12.000000\n",
       "\n",
       "[8 rows x 12 columns]"
      ]
     },
     "execution_count": 5,
     "metadata": {},
     "output_type": "execute_result"
    }
   ],
   "source": [
    "df.describe()"
   ]
  },
  {
   "cell_type": "code",
   "execution_count": 6,
   "metadata": {},
   "outputs": [
    {
     "data": {
      "text/html": [
       "<div>\n",
       "<style scoped>\n",
       "    .dataframe tbody tr th:only-of-type {\n",
       "        vertical-align: middle;\n",
       "    }\n",
       "\n",
       "    .dataframe tbody tr th {\n",
       "        vertical-align: top;\n",
       "    }\n",
       "\n",
       "    .dataframe thead th {\n",
       "        text-align: right;\n",
       "    }\n",
       "</style>\n",
       "<table border=\"1\" class=\"dataframe\">\n",
       "  <thead>\n",
       "    <tr style=\"text-align: right;\">\n",
       "      <th></th>\n",
       "      <th>ID</th>\n",
       "      <th>Age</th>\n",
       "      <th>Gender</th>\n",
       "      <th>Region</th>\n",
       "      <th>Family_Income</th>\n",
       "      <th>Family_History_Diabetes</th>\n",
       "      <th>Parent_Diabetes_Type</th>\n",
       "      <th>Genetic_Risk_Score</th>\n",
       "      <th>BMI</th>\n",
       "      <th>Physical_Activity_Level</th>\n",
       "      <th>Dietary_Habits</th>\n",
       "      <th>Fast_Food_Intake</th>\n",
       "      <th>Smoking</th>\n",
       "      <th>Alcohol_Consumption</th>\n",
       "      <th>Fasting_Blood_Sugar</th>\n",
       "      <th>HbA1c</th>\n",
       "      <th>Cholesterol_Level</th>\n",
       "      <th>Prediabetes</th>\n",
       "      <th>Diabetes_Type</th>\n",
       "      <th>Sleep_Hours</th>\n",
       "      <th>Stress_Level</th>\n",
       "      <th>Screen_Time</th>\n",
       "    </tr>\n",
       "  </thead>\n",
       "  <tbody>\n",
       "    <tr>\n",
       "      <th>11354</th>\n",
       "      <td>11355</td>\n",
       "      <td>23</td>\n",
       "      <td>Female</td>\n",
       "      <td>East</td>\n",
       "      <td>1275210</td>\n",
       "      <td>No</td>\n",
       "      <td>Type 2</td>\n",
       "      <td>10</td>\n",
       "      <td>16.0</td>\n",
       "      <td>Sedentary</td>\n",
       "      <td>Healthy</td>\n",
       "      <td>4</td>\n",
       "      <td>Yes</td>\n",
       "      <td>Yes</td>\n",
       "      <td>166.3</td>\n",
       "      <td>10.0</td>\n",
       "      <td>123.4</td>\n",
       "      <td>No</td>\n",
       "      <td>NaN</td>\n",
       "      <td>8.1</td>\n",
       "      <td>6</td>\n",
       "      <td>6.5</td>\n",
       "    </tr>\n",
       "    <tr>\n",
       "      <th>88733</th>\n",
       "      <td>88734</td>\n",
       "      <td>23</td>\n",
       "      <td>Female</td>\n",
       "      <td>South</td>\n",
       "      <td>606371</td>\n",
       "      <td>Yes</td>\n",
       "      <td>NaN</td>\n",
       "      <td>6</td>\n",
       "      <td>38.9</td>\n",
       "      <td>Active</td>\n",
       "      <td>Healthy</td>\n",
       "      <td>3</td>\n",
       "      <td>No</td>\n",
       "      <td>No</td>\n",
       "      <td>147.5</td>\n",
       "      <td>6.5</td>\n",
       "      <td>220.1</td>\n",
       "      <td>No</td>\n",
       "      <td>NaN</td>\n",
       "      <td>4.1</td>\n",
       "      <td>5</td>\n",
       "      <td>11.6</td>\n",
       "    </tr>\n",
       "    <tr>\n",
       "      <th>72164</th>\n",
       "      <td>72165</td>\n",
       "      <td>23</td>\n",
       "      <td>Female</td>\n",
       "      <td>Central</td>\n",
       "      <td>1310874</td>\n",
       "      <td>No</td>\n",
       "      <td>NaN</td>\n",
       "      <td>10</td>\n",
       "      <td>26.9</td>\n",
       "      <td>Moderate</td>\n",
       "      <td>Unhealthy</td>\n",
       "      <td>0</td>\n",
       "      <td>No</td>\n",
       "      <td>No</td>\n",
       "      <td>155.9</td>\n",
       "      <td>7.3</td>\n",
       "      <td>237.1</td>\n",
       "      <td>No</td>\n",
       "      <td>NaN</td>\n",
       "      <td>7.9</td>\n",
       "      <td>5</td>\n",
       "      <td>6.8</td>\n",
       "    </tr>\n",
       "    <tr>\n",
       "      <th>20366</th>\n",
       "      <td>20367</td>\n",
       "      <td>21</td>\n",
       "      <td>Female</td>\n",
       "      <td>Central</td>\n",
       "      <td>2023736</td>\n",
       "      <td>No</td>\n",
       "      <td>NaN</td>\n",
       "      <td>1</td>\n",
       "      <td>28.0</td>\n",
       "      <td>Sedentary</td>\n",
       "      <td>Healthy</td>\n",
       "      <td>0</td>\n",
       "      <td>Yes</td>\n",
       "      <td>No</td>\n",
       "      <td>94.1</td>\n",
       "      <td>9.8</td>\n",
       "      <td>210.8</td>\n",
       "      <td>No</td>\n",
       "      <td>NaN</td>\n",
       "      <td>9.1</td>\n",
       "      <td>9</td>\n",
       "      <td>1.0</td>\n",
       "    </tr>\n",
       "    <tr>\n",
       "      <th>29840</th>\n",
       "      <td>29841</td>\n",
       "      <td>25</td>\n",
       "      <td>Female</td>\n",
       "      <td>Northeast</td>\n",
       "      <td>1394149</td>\n",
       "      <td>No</td>\n",
       "      <td>NaN</td>\n",
       "      <td>2</td>\n",
       "      <td>32.4</td>\n",
       "      <td>Sedentary</td>\n",
       "      <td>Moderate</td>\n",
       "      <td>5</td>\n",
       "      <td>No</td>\n",
       "      <td>No</td>\n",
       "      <td>161.0</td>\n",
       "      <td>7.3</td>\n",
       "      <td>196.4</td>\n",
       "      <td>No</td>\n",
       "      <td>NaN</td>\n",
       "      <td>6.7</td>\n",
       "      <td>5</td>\n",
       "      <td>6.0</td>\n",
       "    </tr>\n",
       "  </tbody>\n",
       "</table>\n",
       "</div>"
      ],
      "text/plain": [
       "          ID  Age  Gender  ... Sleep_Hours  Stress_Level Screen_Time\n",
       "11354  11355   23  Female  ...         8.1             6         6.5\n",
       "88733  88734   23  Female  ...         4.1             5        11.6\n",
       "72164  72165   23  Female  ...         7.9             5         6.8\n",
       "20366  20367   21  Female  ...         9.1             9         1.0\n",
       "29840  29841   25  Female  ...         6.7             5         6.0\n",
       "\n",
       "[5 rows x 22 columns]"
      ]
     },
     "execution_count": 6,
     "metadata": {},
     "output_type": "execute_result"
    }
   ],
   "source": [
    "df.sample(5)"
   ]
  },
  {
   "cell_type": "code",
   "execution_count": 7,
   "metadata": {},
   "outputs": [
    {
     "data": {
      "text/plain": [
       "ID                             0\n",
       "Age                            0\n",
       "Gender                         0\n",
       "Region                         0\n",
       "Family_Income                  0\n",
       "Family_History_Diabetes        0\n",
       "Parent_Diabetes_Type       65097\n",
       "Genetic_Risk_Score             0\n",
       "BMI                            0\n",
       "Physical_Activity_Level        0\n",
       "Dietary_Habits                 0\n",
       "Fast_Food_Intake               0\n",
       "Smoking                        0\n",
       "Alcohol_Consumption            0\n",
       "Fasting_Blood_Sugar            0\n",
       "HbA1c                          0\n",
       "Cholesterol_Level              0\n",
       "Prediabetes                    0\n",
       "Diabetes_Type              74776\n",
       "Sleep_Hours                    0\n",
       "Stress_Level                   0\n",
       "Screen_Time                    0\n",
       "dtype: int64"
      ]
     },
     "execution_count": 7,
     "metadata": {},
     "output_type": "execute_result"
    }
   ],
   "source": [
    "df.isnull().sum()"
   ]
  },
  {
   "cell_type": "code",
   "execution_count": 8,
   "metadata": {},
   "outputs": [
    {
     "data": {
      "text/plain": [
       "0             1\n",
       "1             2\n",
       "2             3\n",
       "3             4\n",
       "4             5\n",
       "          ...  \n",
       "99995     99996\n",
       "99996     99997\n",
       "99997     99998\n",
       "99998     99999\n",
       "99999    100000\n",
       "Name: ID, Length: 100000, dtype: int64"
      ]
     },
     "execution_count": 8,
     "metadata": {},
     "output_type": "execute_result"
    }
   ],
   "source": [
    "df['ID']"
   ]
  },
  {
   "cell_type": "code",
   "execution_count": 9,
   "metadata": {},
   "outputs": [
    {
     "data": {
      "text/plain": [
       "Age\n",
       "24    9259\n",
       "21    9205\n",
       "20    9194\n",
       "18    9127\n",
       "23    9123\n",
       "19    9089\n",
       "15    9031\n",
       "22    9030\n",
       "17    9006\n",
       "16    9005\n",
       "25    8931\n",
       "Name: count, dtype: int64"
      ]
     },
     "execution_count": 9,
     "metadata": {},
     "output_type": "execute_result"
    }
   ],
   "source": [
    "df['Age'].value_counts()"
   ]
  },
  {
   "cell_type": "code",
   "execution_count": 10,
   "metadata": {},
   "outputs": [
    {
     "data": {
      "text/plain": [
       "Gender\n",
       "Female    48073\n",
       "Male      47964\n",
       "Other      3963\n",
       "Name: count, dtype: int64"
      ]
     },
     "execution_count": 10,
     "metadata": {},
     "output_type": "execute_result"
    }
   ],
   "source": [
    "df['Gender'].value_counts()"
   ]
  },
  {
   "cell_type": "code",
   "execution_count": 11,
   "metadata": {},
   "outputs": [
    {
     "data": {
      "text/plain": [
       "Region\n",
       "North        16768\n",
       "East         16751\n",
       "Northeast    16677\n",
       "South        16650\n",
       "West         16607\n",
       "Central      16547\n",
       "Name: count, dtype: int64"
      ]
     },
     "execution_count": 11,
     "metadata": {},
     "output_type": "execute_result"
    }
   ],
   "source": [
    "df['Region'].value_counts()"
   ]
  },
  {
   "cell_type": "code",
   "execution_count": 12,
   "metadata": {},
   "outputs": [
    {
     "data": {
      "text/plain": [
       "count     100000\n",
       "unique         6\n",
       "top        North\n",
       "freq       16768\n",
       "Name: Region, dtype: object"
      ]
     },
     "execution_count": 12,
     "metadata": {},
     "output_type": "execute_result"
    }
   ],
   "source": [
    "df['Region'].describe()"
   ]
  },
  {
   "cell_type": "code",
   "execution_count": 13,
   "metadata": {},
   "outputs": [
    {
     "data": {
      "text/plain": [
       "count    1.000000e+05\n",
       "mean     1.299440e+06\n",
       "std      6.919403e+05\n",
       "min      1.000040e+05\n",
       "25%      7.022028e+05\n",
       "50%      1.299990e+06\n",
       "75%      1.898916e+06\n",
       "max      2.499974e+06\n",
       "Name: Family_Income, dtype: float64"
      ]
     },
     "execution_count": 13,
     "metadata": {},
     "output_type": "execute_result"
    }
   ],
   "source": [
    "df['Family_Income'].describe()"
   ]
  },
  {
   "cell_type": "code",
   "execution_count": 14,
   "metadata": {},
   "outputs": [
    {
     "data": {
      "text/plain": [
       "([<matplotlib.axis.XTick at 0x223a9316390>,\n",
       "  <matplotlib.axis.XTick at 0x223a93150d0>,\n",
       "  <matplotlib.axis.XTick at 0x223a92435f0>,\n",
       "  <matplotlib.axis.XTick at 0x22390f23740>],\n",
       " [Text(100004.0, 0, '100,004'),\n",
       "  Text(899994.0, 0, '899,994'),\n",
       "  Text(1699984.0, 0, '1,699,984'),\n",
       "  Text(2499974.0, 0, '2,499,974')])"
      ]
     },
     "execution_count": 14,
     "metadata": {},
     "output_type": "execute_result"
    },
    {
     "data": {
      "image/png": "[encoded data removed]",
      "text/plain": [
       "<Figure size 640x480 with 1 Axes>"
      ]
     },
     "metadata": {},
     "output_type": "display_data"
    }
   ],
   "source": [
    "sns.histplot(df['Family_Income'],bins=3)\n",
    "plt.grid(True, which='both', linestyle='--', linewidth=0.5)\n",
    "plt.grid(color='black', alpha=1)\n",
    "ticks = np.linspace(df['Family_Income'].min(), df['Family_Income'].max(), 4)  # 3 bins mean 4 tick points\n",
    "plt.xticks(ticks, [f'{tick:,.0f}' for tick in ticks])\n"
   ]
  },
  {
   "cell_type": "code",
   "execution_count": 15,
   "metadata": {},
   "outputs": [
    {
     "data": {
      "text/plain": [
       "Family_History_Diabetes\n",
       "No     64912\n",
       "Yes    35088\n",
       "Name: count, dtype: int64"
      ]
     },
     "execution_count": 15,
     "metadata": {},
     "output_type": "execute_result"
    }
   ],
   "source": [
    "df['Family_History_Diabetes'].value_counts()"
   ]
  },
  {
   "cell_type": "markdown",
   "metadata": {},
   "source": [
    "no is twice as much as yes;\n",
    "will keep it in 1-0 format\n"
   ]
  },
  {
   "cell_type": "code",
   "execution_count": null,
   "metadata": {},
   "outputs": [],
   "source": []
  },
  {
   "cell_type": "code",
   "execution_count": 16,
   "metadata": {},
   "outputs": [
    {
     "data": {
      "text/plain": [
       "34903"
      ]
     },
     "execution_count": 16,
     "metadata": {},
     "output_type": "execute_result"
    }
   ],
   "source": [
    "df['Parent_Diabetes_Type'].value_counts().sum()"
   ]
  },
  {
   "cell_type": "code",
   "execution_count": 17,
   "metadata": {},
   "outputs": [
    {
     "data": {
      "text/plain": [
       "65097"
      ]
     },
     "execution_count": 17,
     "metadata": {},
     "output_type": "execute_result"
    }
   ],
   "source": [
    "df['Parent_Diabetes_Type'].isna().sum()"
   ]
  },
  {
   "cell_type": "markdown",
   "metadata": {},
   "source": [
    "will drop it"
   ]
  },
  {
   "cell_type": "code",
   "execution_count": 18,
   "metadata": {},
   "outputs": [
    {
     "data": {
      "text/plain": [
       "Genetic_Risk_Score\n",
       "9     10091\n",
       "3     10078\n",
       "6     10038\n",
       "10    10022\n",
       "4     10014\n",
       "7      9992\n",
       "1      9969\n",
       "5      9946\n",
       "8      9939\n",
       "2      9911\n",
       "Name: count, dtype: int64"
      ]
     },
     "execution_count": 18,
     "metadata": {},
     "output_type": "execute_result"
    }
   ],
   "source": [
    "df['Genetic_Risk_Score'].value_counts()"
   ]
  },
  {
   "cell_type": "code",
   "execution_count": 19,
   "metadata": {},
   "outputs": [
    {
     "data": {
      "text/plain": [
       "<Axes: xlabel='Genetic_Risk_Score', ylabel='Count'>"
      ]
     },
     "execution_count": 19,
     "metadata": {},
     "output_type": "execute_result"
    },
    {
     "data": {
      "image/png": "[encoded data removed]",
      "text/plain": [
       "<Figure size 640x480 with 1 Axes>"
      ]
     },
     "metadata": {},
     "output_type": "display_data"
    }
   ],
   "source": [
    "sns.histplot(df['Genetic_Risk_Score'],kde=True) "
   ]
  },
  {
   "cell_type": "code",
   "execution_count": 20,
   "metadata": {},
   "outputs": [
    {
     "data": {
      "text/plain": [
       "100000"
      ]
     },
     "execution_count": 20,
     "metadata": {},
     "output_type": "execute_result"
    }
   ],
   "source": [
    "df['BMI'].value_counts().sum()"
   ]
  },
  {
   "cell_type": "code",
   "execution_count": 21,
   "metadata": {},
   "outputs": [
    {
     "data": {
      "text/plain": [
       "<Axes: xlabel='BMI', ylabel='Count'>"
      ]
     },
     "execution_count": 21,
     "metadata": {},
     "output_type": "execute_result"
    },
    {
     "data": {
      "image/png": "[encoded data removed]",
      "text/plain": [
       "<Figure size 640x480 with 1 Axes>"
      ]
     },
     "metadata": {},
     "output_type": "display_data"
    }
   ],
   "source": [
    "sns.histplot(df['BMI'],bins=80)"
   ]
  },
  {
   "cell_type": "code",
   "execution_count": 22,
   "metadata": {},
   "outputs": [
    {
     "data": {
      "text/plain": [
       "Physical_Activity_Level\n",
       "Sedentary    50087\n",
       "Moderate     29896\n",
       "Active       20017\n",
       "Name: count, dtype: int64"
      ]
     },
     "execution_count": 22,
     "metadata": {},
     "output_type": "execute_result"
    }
   ],
   "source": [
    "df['Physical_Activity_Level'].value_counts()"
   ]
  },
  {
   "cell_type": "code",
   "execution_count": 23,
   "metadata": {},
   "outputs": [
    {
     "data": {
      "text/plain": [
       "<Axes: ylabel='Physical_Activity_Level'>"
      ]
     },
     "execution_count": 23,
     "metadata": {},
     "output_type": "execute_result"
    },
    {
     "data": {
      "image/png": "[encoded data removed]",
      "text/plain": [
       "<Figure size 640x480 with 1 Axes>"
      ]
     },
     "metadata": {},
     "output_type": "display_data"
    }
   ],
   "source": [
    "sns.violinplot(df['Physical_Activity_Level'])"
   ]
  },
  {
   "cell_type": "code",
   "execution_count": 24,
   "metadata": {},
   "outputs": [
    {
     "data": {
      "text/plain": [
       "Dietary_Habits\n",
       "Moderate     39786\n",
       "Unhealthy    30428\n",
       "Healthy      29786\n",
       "Name: count, dtype: int64"
      ]
     },
     "execution_count": 24,
     "metadata": {},
     "output_type": "execute_result"
    }
   ],
   "source": [
    "df['Dietary_Habits'].value_counts()"
   ]
  },
  {
   "cell_type": "code",
   "execution_count": 25,
   "metadata": {},
   "outputs": [
    {
     "data": {
      "text/plain": [
       "<Axes: ylabel='Dietary_Habits'>"
      ]
     },
     "execution_count": 25,
     "metadata": {},
     "output_type": "execute_result"
    },
    {
     "data": {
      "image/png": "[encoded data removed]",
      "text/plain": [
       "<Figure size 640x480 with 1 Axes>"
      ]
     },
     "metadata": {},
     "output_type": "display_data"
    }
   ],
   "source": [
    "sns.violinplot(df['Dietary_Habits'])"
   ]
  },
  {
   "cell_type": "code",
   "execution_count": 26,
   "metadata": {},
   "outputs": [
    {
     "data": {
      "text/plain": [
       "Fast_Food_Intake\n",
       "1     9289\n",
       "0     9211\n",
       "8     9194\n",
       "5     9110\n",
       "2     9096\n",
       "7     9070\n",
       "10    9058\n",
       "6     9057\n",
       "9     9038\n",
       "3     8987\n",
       "4     8890\n",
       "Name: count, dtype: int64"
      ]
     },
     "execution_count": 26,
     "metadata": {},
     "output_type": "execute_result"
    }
   ],
   "source": [
    "df['Fast_Food_Intake'].value_counts()"
   ]
  },
  {
   "cell_type": "code",
   "execution_count": 27,
   "metadata": {},
   "outputs": [
    {
     "data": {
      "text/plain": [
       "Smoking\n",
       "No     69786\n",
       "Yes    30214\n",
       "Name: count, dtype: int64"
      ]
     },
     "execution_count": 27,
     "metadata": {},
     "output_type": "execute_result"
    }
   ],
   "source": [
    "df['Smoking'].value_counts()"
   ]
  },
  {
   "cell_type": "code",
   "execution_count": 28,
   "metadata": {},
   "outputs": [
    {
     "data": {
      "text/plain": [
       "<Axes: ylabel='Smoking'>"
      ]
     },
     "execution_count": 28,
     "metadata": {},
     "output_type": "execute_result"
    },
    {
     "data": {
      "image/png": "[encoded data removed]",
      "text/plain": [
       "<Figure size 640x480 with 1 Axes>"
      ]
     },
     "metadata": {},
     "output_type": "display_data"
    }
   ],
   "source": [
    "sns.violinplot(df['Smoking'])"
   ]
  },
  {
   "cell_type": "code",
   "execution_count": 29,
   "metadata": {},
   "outputs": [
    {
     "data": {
      "text/plain": [
       "Fasting_Blood_Sugar\n",
       "162.1    121\n",
       "104.5    120\n",
       "133.2    120\n",
       "105.0    119\n",
       "131.1    117\n",
       "        ... \n",
       "70.2      67\n",
       "88.1      66\n",
       "124.2     60\n",
       "70.0      50\n",
       "180.0     44\n",
       "Name: count, Length: 1101, dtype: int64"
      ]
     },
     "execution_count": 29,
     "metadata": {},
     "output_type": "execute_result"
    }
   ],
   "source": [
    "df['Fasting_Blood_Sugar'].value_counts()"
   ]
  },
  {
   "cell_type": "code",
   "execution_count": 30,
   "metadata": {},
   "outputs": [
    {
     "data": {
      "text/plain": [
       "array([ 95.6, 164.9, 110.5, ..., 119.6, 178.9, 142.5])"
      ]
     },
     "execution_count": 30,
     "metadata": {},
     "output_type": "execute_result"
    }
   ],
   "source": [
    "df['Fasting_Blood_Sugar'].unique()"
   ]
  },
  {
   "cell_type": "code",
   "execution_count": 31,
   "metadata": {},
   "outputs": [
    {
     "data": {
      "text/plain": [
       "<Axes: xlabel='Fasting_Blood_Sugar', ylabel='Count'>"
      ]
     },
     "execution_count": 31,
     "metadata": {},
     "output_type": "execute_result"
    },
    {
     "data": {
      "image/png": "[encoded data removed]",
      "text/plain": [
       "<Figure size 640x480 with 1 Axes>"
      ]
     },
     "metadata": {},
     "output_type": "display_data"
    }
   ],
   "source": [
    "sns.histplot(df['Fasting_Blood_Sugar'],bins=50)"
   ]
  },
  {
   "cell_type": "code",
   "execution_count": 32,
   "metadata": {},
   "outputs": [
    {
     "data": {
      "text/plain": [
       "count    100000.000000\n",
       "mean        125.072216\n",
       "std          31.788613\n",
       "min          70.000000\n",
       "25%          97.600000\n",
       "50%         125.200000\n",
       "75%         152.600000\n",
       "max         180.000000\n",
       "Name: Fasting_Blood_Sugar, dtype: float64"
      ]
     },
     "execution_count": 32,
     "metadata": {},
     "output_type": "execute_result"
    }
   ],
   "source": [
    "df['Fasting_Blood_Sugar'].describe()"
   ]
  },
  {
   "cell_type": "code",
   "execution_count": 33,
   "metadata": {},
   "outputs": [
    {
     "name": "stdout",
     "output_type": "stream",
     "text": [
      "<class 'pandas.core.frame.DataFrame'>\n",
      "RangeIndex: 100000 entries, 0 to 99999\n",
      "Data columns (total 22 columns):\n",
      " #   Column                   Non-Null Count   Dtype  \n",
      "---  ------                   --------------   -----  \n",
      " 0   ID                       100000 non-null  int64  \n",
      " 1   Age                      100000 non-null  int64  \n",
      " 2   Gender                   100000 non-null  object \n",
      " 3   Region                   100000 non-null  object \n",
      " 4   Family_Income            100000 non-null  int64  \n",
      " 5   Family_History_Diabetes  100000 non-null  object \n",
      " 6   Parent_Diabetes_Type     34903 non-null   object \n",
      " 7   Genetic_Risk_Score       100000 non-null  int64  \n",
      " 8   BMI                      100000 non-null  float64\n",
      " 9   Physical_Activity_Level  100000 non-null  object \n",
      " 10  Dietary_Habits           100000 non-null  object \n",
      " 11  Fast_Food_Intake         100000 non-null  int64  \n",
      " 12  Smoking                  100000 non-null  object \n",
      " 13  Alcohol_Consumption      100000 non-null  object \n",
      " 14  Fasting_Blood_Sugar      100000 non-null  float64\n",
      " 15  HbA1c                    100000 non-null  float64\n",
      " 16  Cholesterol_Level        100000 non-null  float64\n",
      " 17  Prediabetes              100000 non-null  object \n",
      " 18  Diabetes_Type            25224 non-null   object \n",
      " 19  Sleep_Hours              100000 non-null  float64\n",
      " 20  Stress_Level             100000 non-null  int64  \n",
      " 21  Screen_Time              100000 non-null  float64\n",
      "dtypes: float64(6), int64(6), object(10)\n",
      "memory usage: 16.8+ MB\n"
     ]
    }
   ],
   "source": [
    "df.info()"
   ]
  },
  {
   "cell_type": "code",
   "execution_count": 34,
   "metadata": {},
   "outputs": [
    {
     "data": {
      "text/plain": [
       "Prediabetes\n",
       "No     69979\n",
       "Yes    30021\n",
       "Name: count, dtype: int64"
      ]
     },
     "execution_count": 34,
     "metadata": {},
     "output_type": "execute_result"
    }
   ],
   "source": [
    "df['Prediabetes'].value_counts()"
   ]
  },
  {
   "cell_type": "code",
   "execution_count": 35,
   "metadata": {},
   "outputs": [
    {
     "data": {
      "text/plain": [
       "<Axes: ylabel='Prediabetes'>"
      ]
     },
     "execution_count": 35,
     "metadata": {},
     "output_type": "execute_result"
    },
    {
     "data": {
      "image/png": "[encoded data removed]",
      "text/plain": [
       "<Figure size 640x480 with 1 Axes>"
      ]
     },
     "metadata": {},
     "output_type": "display_data"
    }
   ],
   "source": [
    "sns.violinplot(df['Prediabetes'])"
   ]
  },
  {
   "cell_type": "code",
   "execution_count": 36,
   "metadata": {},
   "outputs": [
    {
     "data": {
      "text/plain": [
       "Diabetes_Type\n",
       "Type 2    20297\n",
       "Type 1     4927\n",
       "Name: count, dtype: int64"
      ]
     },
     "execution_count": 36,
     "metadata": {},
     "output_type": "execute_result"
    }
   ],
   "source": [
    "df['Diabetes_Type'].value_counts()"
   ]
  },
  {
   "cell_type": "code",
   "execution_count": 37,
   "metadata": {},
   "outputs": [
    {
     "data": {
      "text/plain": [
       "74776"
      ]
     },
     "execution_count": 37,
     "metadata": {},
     "output_type": "execute_result"
    }
   ],
   "source": [
    "df['Diabetes_Type'].isnull().sum()"
   ]
  },
  {
   "cell_type": "code",
   "execution_count": 38,
   "metadata": {},
   "outputs": [
    {
     "data": {
      "text/plain": [
       "Sleep_Hours\n",
       "6.5     1736\n",
       "5.0     1735\n",
       "7.6     1734\n",
       "9.5     1734\n",
       "4.5     1732\n",
       "        ... \n",
       "9.6     1577\n",
       "6.0     1576\n",
       "9.3     1545\n",
       "10.0     868\n",
       "4.0      814\n",
       "Name: count, Length: 61, dtype: int64"
      ]
     },
     "execution_count": 38,
     "metadata": {},
     "output_type": "execute_result"
    }
   ],
   "source": [
    "df['Sleep_Hours'].value_counts()"
   ]
  },
  {
   "cell_type": "code",
   "execution_count": 39,
   "metadata": {},
   "outputs": [
    {
     "data": {
      "text/plain": [
       "<Axes: xlabel='Sleep_Hours', ylabel='Count'>"
      ]
     },
     "execution_count": 39,
     "metadata": {},
     "output_type": "execute_result"
    },
    {
     "data": {
      "image/png": "[encoded data removed]",
      "text/plain": [
       "<Figure size 640x480 with 1 Axes>"
      ]
     },
     "metadata": {},
     "output_type": "display_data"
    }
   ],
   "source": [
    "sns.histplot(x=df['Sleep_Hours'],bins=20)"
   ]
  },
  {
   "cell_type": "code",
   "execution_count": 40,
   "metadata": {},
   "outputs": [
    {
     "data": {
      "text/plain": [
       "Stress_Level\n",
       "2     10149\n",
       "8     10104\n",
       "10    10074\n",
       "9     10061\n",
       "1     10047\n",
       "5      9977\n",
       "6      9970\n",
       "7      9955\n",
       "4      9836\n",
       "3      9827\n",
       "Name: count, dtype: int64"
      ]
     },
     "execution_count": 40,
     "metadata": {},
     "output_type": "execute_result"
    }
   ],
   "source": [
    "df['Stress_Level'].value_counts()"
   ]
  },
  {
   "cell_type": "code",
   "execution_count": 41,
   "metadata": {},
   "outputs": [
    {
     "data": {
      "text/plain": [
       "<Axes: xlabel='Stress_Level', ylabel='Count'>"
      ]
     },
     "execution_count": 41,
     "metadata": {},
     "output_type": "execute_result"
    },
    {
     "data": {
      "image/png": "[encoded data removed]",
      "text/plain": [
       "<Figure size 640x480 with 1 Axes>"
      ]
     },
     "metadata": {},
     "output_type": "display_data"
    }
   ],
   "source": [
    "sns.histplot(df['Stress_Level'])"
   ]
  },
  {
   "cell_type": "code",
   "execution_count": 42,
   "metadata": {},
   "outputs": [
    {
     "data": {
      "text/plain": [
       "Screen_Time\n",
       "5.5     1005\n",
       "8.5      996\n",
       "2.8      985\n",
       "4.3      980\n",
       "9.1      965\n",
       "        ... \n",
       "10.7     851\n",
       "11.4     850\n",
       "4.7      836\n",
       "1.0      459\n",
       "12.0     453\n",
       "Name: count, Length: 111, dtype: int64"
      ]
     },
     "execution_count": 42,
     "metadata": {},
     "output_type": "execute_result"
    }
   ],
   "source": [
    "df['Screen_Time'].value_counts()"
   ]
  },
  {
   "cell_type": "code",
   "execution_count": 43,
   "metadata": {},
   "outputs": [
    {
     "data": {
      "text/plain": [
       "<Axes: xlabel='Screen_Time', ylabel='Count'>"
      ]
     },
     "execution_count": 43,
     "metadata": {},
     "output_type": "execute_result"
    },
    {
     "data": {
      "image/png": "[encoded data removed]",
      "text/plain": [
       "<Figure size 640x480 with 1 Axes>"
      ]
     },
     "metadata": {},
     "output_type": "display_data"
    }
   ],
   "source": [
    "sns.histplot(df['Screen_Time'])"
   ]
  },
  {
   "cell_type": "code",
   "execution_count": 45,
   "metadata": {},
   "outputs": [
    {
     "data": {
      "application/vnd.jupyter.widget-view+json": {
       "model_id": "dfaca678119946b7865cad955337255f",
       "version_major": 2,
       "version_minor": 0
      },
      "text/plain": [
       "Summarize dataset:   0%|          | 0/5 [00:00<?, ?it/s]"
      ]
     },
     "metadata": {},
     "output_type": "display_data"
    },
    {
     "data": {
      "application/vnd.jupyter.widget-view+json": {
       "model_id": "e07eb4cb883d4ab093e336c93bc5046c",
       "version_major": 2,
       "version_minor": 0
      },
      "text/plain": [
       "Generate report structure:   0%|          | 0/1 [00:00<?, ?it/s]"
      ]
     },
     "metadata": {},
     "output_type": "display_data"
    },
    {
     "data": {
      "application/vnd.jupyter.widget-view+json": {
       "model_id": "077233c7a0af44a2b1dd84b48c5eb013",
       "version_major": 2,
       "version_minor": 0
      },
      "text/plain": [
       "Render HTML:   0%|          | 0/1 [00:00<?, ?it/s]"
      ]
     },
     "metadata": {},
     "output_type": "display_data"
    },
    {
     "data": {
      "application/vnd.jupyter.widget-view+json": {
       "model_id": "b011cb7917534dbdbdbed61bc0c8edf0",
       "version_major": 2,
       "version_minor": 0
      },
      "text/plain": [
       "Export report to file:   0%|          | 0/1 [00:00<?, ?it/s]"
      ]
     },
     "metadata": {},
     "output_type": "display_data"
    }
   ],
   "source": [
    "from ydata_profiling import ProfileReport\n",
    "\n",
    "info = ProfileReport(df)\n",
    "info.to_file(output_file='output.html')"
   ]
  }
 ],
 "metadata": {
  "kernelspec": {
   "display_name": "Python 3",
   "language": "python",
   "name": "python3"
  },
  "language_info": {
   "codemirror_mode": {
    "name": "ipython",
    "version": 3
   },
   "file_extension": ".py",
   "mimetype": "text/x-python",
   "name": "python",
   "nbconvert_exporter": "python",
   "pygments_lexer": "ipython3",
   "version": "3.12.4"
  }
 },
 "nbformat": 4,
 "nbformat_minor": 2
}
